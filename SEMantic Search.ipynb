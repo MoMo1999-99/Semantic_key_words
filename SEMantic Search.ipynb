{
 "cells": [
  {
   "cell_type": "code",
   "execution_count": 1,
   "metadata": {},
   "outputs": [
    {
     "name": "stderr",
     "output_type": "stream",
     "text": [
      "[nltk_data] Downloading package punkt to C:\\Users\\Mohamed\n",
      "[nltk_data]     Mousa\\AppData\\Roaming\\nltk_data...\n",
      "[nltk_data]   Package punkt is already up-to-date!\n",
      "[nltk_data] Downloading package stopwords to C:\\Users\\Mohamed\n",
      "[nltk_data]     Mousa\\AppData\\Roaming\\nltk_data...\n",
      "[nltk_data]   Package stopwords is already up-to-date!\n"
     ]
    },
    {
     "data": {
      "text/plain": [
       "True"
      ]
     },
     "execution_count": 1,
     "metadata": {},
     "output_type": "execute_result"
    }
   ],
   "source": [
    "import numpy as np # linear algebra\n",
    "import pandas as pd # data processing, CSV file I/O (e.g. pd.read_csv)\n",
    "from nltk.corpus import stopwords\n",
    "import nltk\n",
    "import numpy as np # linear algebra\n",
    "import pandas as pd # data processing, CSV file I/O (e.g. pd.read_csv)\n",
    "import spacy\n",
    "import string\n",
    "import gensim\n",
    "import operator\n",
    "import re\n",
    "import nltk\n",
    "from nltk.tokenize import word_tokenize\n",
    "from nltk.corpus import stopwords\n",
    "from sklearn.feature_extraction.text import TfidfVectorizer\n",
    "from sklearn.metrics.pairwise import cosine_similarity\n",
    "import pandas as pd\n",
    "from nltk.stem import WordNetLemmatizer\n",
    "from timeit import default_timer as timer\n",
    "\n",
    "\n",
    "nltk.download('punkt')\n",
    "nltk.download('stopwords')"
   ]
  },
  {
   "cell_type": "code",
   "execution_count": 2,
   "metadata": {},
   "outputs": [],
   "source": [
    "def Load_data(document_path):\n",
    "    \n",
    "    with open(document_path, 'r') as file:\n",
    "        document = file.read()\n",
    "    return document"
   ]
  },
  {
   "cell_type": "code",
   "execution_count": 3,
   "metadata": {},
   "outputs": [],
   "source": [
    "Data = []\n",
    "import os\n",
    "for dirname, _, filenames in os.walk('D:\\cysheild\\Assignment\\Assignment_NLP\\Assignment_NLP\\Semantic_keywords\\politics'):\n",
    "    for filename in filenames:\n",
    "        #print(os.path.join(dirname, filename))\n",
    "        doc_class = filename.split('_')[0].lower()\n",
    "        doc_titles = filename\n",
    "        documents = Load_data(os.path.join(dirname, filename))\n",
    "        \n",
    "        Data.append( documents )"
   ]
  },
  {
   "cell_type": "code",
   "execution_count": 4,
   "metadata": {
    "scrolled": true
   },
   "outputs": [
    {
     "data": {
      "text/plain": [
       "100"
      ]
     },
     "execution_count": 4,
     "metadata": {},
     "output_type": "execute_result"
    }
   ],
   "source": [
    "len(Data)"
   ]
  },
  {
   "cell_type": "code",
   "execution_count": 5,
   "metadata": {},
   "outputs": [],
   "source": [
    "stemmer = WordNetLemmatizer()\n",
    "\n",
    "def preprocess(x):\n",
    "    # Remove all the special characters\n",
    "    document = re.sub(r'\\W', ' ', str(x))\n",
    "    # remove all single characters\n",
    "    document = re.sub(r'\\s+[a-zA-Z]\\s+', ' ', document)\n",
    "    # Remove single characters from the start\n",
    "    document = re.sub(r'\\^[a-zA-Z]\\s+', ' ', document) \n",
    "    # Substituting multiple spaces with single space\n",
    "    document = re.sub(r'\\s+', ' ', document, flags=re.I)\n",
    "    # Removing prefixed 'b'\n",
    "    document = re.sub(r'^b\\s+', '', document)\n",
    "    # Converting to Lowercase\n",
    "    document = document.lower()\n",
    "    # word tokenize\n",
    "    document = word_tokenize(document)\n",
    "    # remove stop words\n",
    "    document = [word for word in document if word not in stopwords.words('english')]\n",
    "    # word lemmatization\n",
    "    document = [stemmer.lemmatize(word) for word in document]\n",
    "    document = ' '.join(document)\n",
    "\n",
    "    return document"
   ]
  },
  {
   "cell_type": "markdown",
   "metadata": {},
   "source": [
    "In this code, we define a function called preprocess that takes a text as input, preprocesses it using nltk, filters out stop words and punctuation, and returns a string of the remaining words.\n",
    "\n",
    "We then define a function called search_words_tfidf that takes a text and a list of words to search for as input. We preprocess the input text and words using preprocess function, and then vectorize them using Tf-Idf.\n",
    "\n",
    "We compute the cosine similarity between the vectorized text and the vectorized words using cosine_similarity function. We extract the words with highest similarity greater than 0 and return them as the matched words.\n",
    "\n",
    "Finally, we display the list of matched words. Note that the threshold for cosine similarity can be adjusted depending on the desired level of matching"
   ]
  },
  {
   "cell_type": "code",
   "execution_count": 6,
   "metadata": {},
   "outputs": [],
   "source": [
    "def search_words_tfidf(Data, words):\n",
    "    start = timer()\n",
    "    # preprocess input text and words\n",
    "    text = preprocess(Data)\n",
    "    words = [preprocess(word) for word in words]\n",
    "    # vectorize text and words using Tf-Idf\n",
    "    vectorizer = TfidfVectorizer().fit([text] + words)\n",
    "    text_vector = vectorizer.transform([text])\n",
    "    word_vectors = vectorizer.transform(words)\n",
    "    vectorizer = TfidfVectorizer()\n",
    "    X = vectorizer.fit_transform(Data)\n",
    "    df = pd.DataFrame(X.T.toarray(), index=vectorizer.get_feature_names())\n",
    "    q_vec = vectorizer.transform(words).toarray().reshape(df.shape[0],)\n",
    "\n",
    "    \n",
    "    # compute cosine similarity between text and words\n",
    "    similarities = cosine_similarity(text_vector, word_vectors)\n",
    "    # extract matched words with highest similarity\n",
    "    matched_words = [words[i] for i, similarity in enumerate(similarities[0]) if similarity > 0 ]\n",
    "    \n",
    "    med = timer()\n",
    "    \n",
    "    print(matched_words)\n",
    "    print(\"Time Taken for searching for the words :  \" + str(med - start))  \n",
    "    \n",
    "    \n",
    "    sim = {}\n",
    "    for i in range(10):\n",
    "        sim[i] = np.dot(df.loc[:, i].values, q_vec) / np.linalg.norm(df.loc[:, i]) * np.linalg.norm(q_vec)\n",
    "  \n",
    "    sim_sorted = sorted(sim.items(), key=lambda x: x[1], reverse=True)    \n",
    "    \n",
    "    for k, v in sim_sorted:\n",
    "        if v != 0.0:\n",
    "            print(\"Similarity Value:\", v)\n",
    "            print(Data[k])\n",
    "            print()\n",
    "    \n",
    "    print(\"Time Taken for searching for the article :  \" + str(timer() - start))  "
   ]
  },
  {
   "cell_type": "code",
   "execution_count": null,
   "metadata": {},
   "outputs": [],
   "source": []
  },
  {
   "cell_type": "code",
   "execution_count": 7,
   "metadata": {},
   "outputs": [
    {
     "name": "stdout",
     "output_type": "stream",
     "text": [
      "['government bad']\n",
      "Time Taken for searching for the words :  10.916880799999998\n",
      "Similarity Value: 0.02658117660357745\n",
      "Council tax rise 'reasonable'\n",
      "\n",
      "Welsh councils should set their taxes at \"reasonable levels\" after being given an average funding increase of 6%, says the assembly government.\n",
      "\n",
      "Finance Minister Sue Essex said it was a \"good deal\" for local government. The Â£3.2bn settlement includes the \"full\" Â£7.4m from the UK Treasury announced by Chancellor Gordon Brown. But opposition parties said rebanding of council taxes would mean steep rises. In addition, Â£13.4m will come from the business support grant - a scheme which enables local authorities to keep part of business rates. She said where spending rises were kept to around 5% she was \"confident that councils will be able to set council taxes at reasonable levels.\" The Welsh Local Government Association (WLGA) had said on the eve of the announcement said that \"significant\" cuts to services may still be unavoidable. After the announcement WLGA finance spokesman Bob Wellington, of Torfaen, said it was vital that rises were minimsed. \"A limited amount of money has come available but this is not the answer to our problems,\" said Mr Wellington. \"It is vital that we start now to plan for future years and accept that resources will continue to reduce while pressures on services increase.\" On Monday, a delegation of north Wales councils visited Ms Essex to lobby for increased funds. Ms Essex said: \"I have listened to the views of local government and council tax payers and recognise the funding pressures and the concerns they have about council tax rises. \"I have met a large number of local authorities in recent weeks and I am aware of the pressures on them to provide local services and keep down the level of council tax, particularly for those people to are moving up a band due to the revaluation of domestic properties.\" She said council taxes could be kept at reasonable levels, \"even for those people who have moved up a band\".\n",
      "\n",
      "The settlement includes a rise in the grant to help councils with the most deprived communities and a 16.4% rise in capital expenditure support. Ms Essex said: \"This is a good deal for local government, which will allow the well-managed councils of Wales to develop their services and charge reasonable levels of council tax. It is now a matter for council leaders to manage their budgets at a local level.\" Plaid Cymru's local government spokesman Dai Lloyd called the announcement \"hugely disappointing\". He said: \"Wales and its local authorities have been short changed yet again. This is not whinging as the Labour Assembly Government so often claims - it is anger.\" \"This will mean either a massive hike in council tax, massive cuts in services provided by councils, or both.\" Mike German, leader of the Liberal Democrats in the assembly, claimed that one in three homes were still likely to face council tax rises due to rebanding. Mr German said: \"I know from my discussions with Welsh Liberal Democrat council leaders that they are doing their utmost to keep council tax to a minimum. But the random redistribution effect of rebanding...will create a great deal of difficulty.\" Conservative local government spokesman Glyn Davies said that for the minister to claim that the majority of council tax payers in Wales should see very little change \"is taking spin to the very verge of deception\". He added: \"Around a third of Welsh households have been re-valued upwards by at least one band and inevitably face increases into double figures.\"\n",
      "\n",
      "\n",
      "Similarity Value: 0.01055329171860178\n",
      "Brown shrugs off economy fears\n",
      "\n",
      "Gordon Brown is to freeze petrol duty increases, fund a Â£1bn package to avoid big council tax rises and boost childcare and maternity leave.\n",
      "\n",
      "In an upbeat pre-Budget report, he slightly increased borrowing but insisted economic targets would be met. The chancellor also hailed the longest period of growth in UK \"industrial history\" but denied he was \"gloating\". But Oliver Letwin, for the Tories, attacked government red tape and debt, dubbing Mr Brown \"Sir Wastealot\".\n",
      "\n",
      "The shadow chancellor said Mr Brown's \"golden rule\" had \"turned to dross in his hands\" and said he was borrowing to spend, not invest, with predicted debt over the coming years totalling Â£170bn. Mr Letwin told MPs: \"The tide is going out on the chancellor's credibility. He is spending, borrowing and taxing so much because he is not getting value for taxpayer's money.\"\n",
      "\n",
      "Vincent Cable, for the Liberal Democrats, accused Mr Brown of ducking tough choices.\n",
      "\n",
      "He said: \"Last week the prime minister gave us the politics of fear; this week the chancellor has offered the economics of complacency. \"There are serious challenges ahead from the falling dollar and from the rapid downturn in the UK housing market and rising personal debt. But they have not been confronted.\" Mr Brown rejected the Lib Dem's call to open up the government's books to the National Audit Office, saying decisions on tax and spending should be made by ministers. Some economists say his forecasts on public finances are wishful thinking. BBC economic editor Evan Davis said the figures were plausible but also a gamble.\n",
      "\n",
      "Mr Brown's insistence he was not \"gloating\" was a pointed rebuttal of a warning from new European Commissioner Peter Mandelson. In his speech, he set out a 10-year childcare strategy for if Labour wins the next election.\n",
      "\n",
      "It includes a Â£285m cash injection to extend paid maternity leave from six months to nine, with parents able to transfer leave from the mother to the father. He also promised to increase free nursery education for three and four-year-olds to 15 hours from April 2007. And funds would be provided to keep schools open from 0800 to 1800GMT to look after children while their parents were at work. Taken together, the measures would create a \"welfare state that is truly family-friendly for the first time in its history\", said Mr Brown. He also announced a cash hand-out for older pensioners, with payments of Â£50 for the over-70s as part of the winter fuel allowance. In a move ministers say should keep council tax rises below 5% next year, the chancellor said he was providing an extra Â£1bn for local councils. The money is expected to come from government departments such as health and education.\n",
      "\n",
      "Mr Brown said he was set to meet his two fiscal rules - to borrow only to invest and keep debt \"low and sustainable\" - both in this economic cycle and the next. Borrowing figures for 2003/4 are Â£35bn - Â£2.5bn less than the Â£37.5bn predicted in March's budget, as already announced by the Office for National Statistics. Borrowing is tipped to fall to Â£31bn by 2005/06 - but that is still Â£2bn more than Mr Brown predicted in his March budget. Inflation would be 1.75% next year and 2% in the years to follow, Mr Brown forecast. He also pledged an extra Â£105m for security and counter-terrorism. Business groups have welcomed efforts to improve competitiveness and invest more in skills and innovation. But there worries about the costs of more family-friendly working. Simon Sweetman, from the Federation of Small Businesses, said: \"The proposals on maternity leave have clearly been made with a general election in mind and with little thought to the impact on small employers.\"\n",
      "\n",
      "\n",
      "Similarity Value: 0.007083581256908501\n",
      "Labour plans maternity pay rise\n",
      "\n",
      "Maternity pay for new mothers is to rise by Â£1,400 as part of new proposals announced by the Trade and Industry Secretary Patricia Hewitt.\n",
      "\n",
      "It would mean paid leave would be increased to nine months by 2007, Ms Hewitt told GMTV's Sunday programme. Other plans include letting maternity pay be given to fathers and extending rights to parents of older children. The Tories dismissed the maternity pay plan as \"desperate\", while the Liberal Democrats said it was misdirected.\n",
      "\n",
      "Ms Hewitt said: \"We have already doubled the length of maternity pay, it was 13 weeks when we were elected, we have already taken it up to 26 weeks. \"We are going to extend the pay to nine months by 2007 and the aim is to get it right up to the full 12 months by the end of the next Parliament.\" She said new mothers were already entitled to 12 months leave, but that many women could not take it as only six of those months were paid. \"We have made a firm commitment. We will definitely extend the maternity pay, from the six months where it now is to nine months, that's the extra Â£1,400.\" She said ministers would consult on other proposals that could see fathers being allowed to take some of their partner's maternity pay or leave period, or extending the rights of flexible working to carers or parents of older children. The Shadow Secretary of State for the Family, Theresa May, said: \"These plans were announced by Gordon Brown in his pre-budget review in December and Tony Blair is now recycling it in his desperate bid to win back women voters.\"\n",
      "\n",
      "She said the Conservatives would announce their proposals closer to the General Election. Liberal Democrat spokeswoman for women Sandra Gidley said: \"While mothers would welcome any extra maternity pay the Liberal Democrats feel this money is being misdirected.\" She said her party would boost maternity pay in the first six months to allow more women to stay at home in that time.\n",
      "\n",
      "Ms Hewitt also stressed the plans would be paid for by taxpayers, not employers. But David Frost, director general of the British Chambers of Commerce, warned that many small firms could be \"crippled\" by the move. \"While the majority of any salary costs may be covered by the government's statutory pay, recruitment costs, advertising costs, retraining costs and the strain on the company will not be,\" he said. Further details of the government's plans will be outlined on Monday. New mothers are currently entitled to 90% of average earnings for the first six weeks after giving birth, followed by Â£102.80 a week until the baby is six months old.\n",
      "\n",
      "\n",
      "Similarity Value: 0.006528702293216699\n",
      "Crucial decision on super-casinos\n",
      "\n",
      "A decision on whether to allow Westminster to legislate on super-casinos is set to be made by the Scottish Parliament.\n",
      "\n",
      "The government has plans for up to eight Las Vegas style resorts in the UK, one of which is likely to be in Glasgow. Scottish ministers insist they will still have the final say on whether a super-casino will be built in Scotland. But opposition parties say that will not happen in practice. The vote is due to be taken on Wednesday and is expected to be close.\n",
      "\n",
      "The Scottish Executive believes that the legislation should be handled by Westminster. The new law will control internet gambling for the first time and is aimed at preventing children from becoming involved. A super-casino in Glasgow could be located at Ibrox or the Scottish Exhibition and Conference Centre. The new gambling bill going through Westminster will allow casino complexes to open to the public, have live entertainment and large numbers of fruit machines with unlimited prizes. But the Scottish National Party and the Tories say the issue of super-casinos should be decided in Scotland and believe the executive is shirking its responsibility.\n",
      "\n",
      "\n",
      "Similarity Value: 0.004240354741800375\n",
      "Blair 'damaged' by Blunkett row\n",
      "\n",
      "A majority of voters (68%) believe the prime minister has been damaged by the row over David Blunkett's involvement in a visa application, a poll suggests.\n",
      "\n",
      "But nearly half those surveyed said Mr Blunkett should return to Cabinet if Labour won the next election. Some 63% of respondents in the Sunday Times poll thought his former lover - Kimberly Quinn - acted vindictively and 61% that he had been right to resign. YouGov polled a weighted sample of 1,981 voters online on 16-18 December. Mr Blunkett resigned as Home Secretary on Wednesday after an inquiry uncovered an e-mail showing a visa application by Mrs Quinn's former nanny had been speeded up. Sir Alan Budd's inquiry also found Mr Blunkett's account of events had been wrong. Almost a quarter (21%) of those polled for the Sunday Times said he should return to the Cabinet straight after the election. One in four said he should be back in the Government's top ranks within a year or two while 39% opposed a comeback.\n",
      "\n",
      "Three-quarters said Mr Blunkett was right to go to court for the right to see Mrs Quinn's son - whom he says he fathered - and just 14% voiced sympathy for Mrs Quinn. A total of 53% of those polled said they had sympathy for Mr Blunkett, with 40% saying they did not. Forty-three per cent thought Mr Blunkett had done a good job as home secretary and 17% disagreed. Meantime, 32% said Mr Blair was a good prime minister and 38% disagreed. A majority, 52%, said Chancellor Gordon Brown had done a good job and just 16% disagreed.\n",
      "\n",
      "A second poll for the Independent on Sunday found that support for all political parties remained largely unchanged after the Blunkett controversy. Labour lead the Conservatives by 39% to 34% with the Liberal Democrats on 19%. CommunicateResearch interviewed 401 people before David Blunkett's resignation and 601 afterwards. Some 82% said Mr Blunkett had set a good example by wanting to take responsibility for the child he says is his, but 42% backed his legal action compared to 45% who thought it was unbecoming. Thirty per cent said the affair showed Mr Blunkett could not be trusted as a minister while 63%, disagreed.\n",
      "\n",
      "\n",
      "Similarity Value: 0.003457622395215224\n",
      "Brown to outline presidency goals\n",
      "\n",
      "Next year will be \"make or break\" for development in poorer countries Gordon Brown will say as he sets out UK goals for its EU and G8 presidencies.\n",
      "\n",
      "The chancellor is due to outline a series of key targets the government will be judged on in 2005. They will include doubling aid from donor countries and eliminating debt owed by the poorest nations. Mr Brown also wants other G8 nations to match his target for overseas aid - spending 0.7% of national income.\n",
      "\n",
      "He also wants the richer countries to do more to help the development of vaccines for Aids and malaria. The chancellor is travelling to America next week as part of his persuasion drive over the issue. He told BBC Radio 4's Today programme: \"We need more resources allied to progress on trade and progress on debt relief if we are going to make an impact on the problems of ill health, of illiteracy, of poverty, particularly in Africa but right through the developing countries.\"\n",
      "\n",
      "His proposals were effectively a new \"Marshall Plan\" for the world, including an international finance facility, which would issue bonds in an attempt to double global aid cash to $100bn a year. Agreement in the Doha development talks could also give developing nations the trading ability they needed, he argued. The European Union's Common Agricultural Policy had caused aggravated trade problems, he said, but there was now an agreement to end export subsidies.\n",
      "\n",
      "Mr Brown said much had been achieved on issues such as debt relief in the last seven years. But with 30,000 children were dying unnecessarily every day more was needed, including 100% debt relief multilaterally. \"That is why next year is a test,\" he said. \"If after five years of making promises the world is not prepared to honour them, then people will be justified in saying they promised but they did not produce results.\" The Catholic aid agency Cafod will host Mr Brown's speech on Wednesday.\n",
      "\n",
      "Cafod wants Britain to use its influence to pressure countries like the US to make firm commitments to tackle global poverty. Mr Brown said America too needed to take more action but defended President George Bush for guaranteeing resources to countries which introduced reforms to tackle corruption. Oxfam's Paying the Price report this week said 45 million children will die needlessly before 2015 and aid budgets are half their 1960 levels. The charity's director, Barbara Stocking, said: \"2005 offers the chance for an historic breakthrough, but unless world leaders act now the year will end in shameful failure.\" The report said the G8 of top industrialised nations had agreed in 1970 to spend 0.7% of their incomes on aid.\n",
      "\n",
      "But 34 years later none of the organisations members had reached this target and many had not yet set a timetable. Mr Blair, who has described Africa as a \"scar\" on the world's conscience, has already said tackling world poverty would be one his G8 priorities along with climate change and the Aids epidemic. But Band Aid founder Bob Geldof in July said he was sick of hearing \"guff\" about scars on the world. It was pathetic that Britain was the 4th richest country in the world but only the 11th most generous aid donor, he added. Conservative shadow international development secretary Alan Duncan accused Mr Brown of missing his target on providing anti-retroviral drug treatment to three million Africans by 2005. Instead, only 500,000 people would benefit, he said. \"There's no point in him demanding praise and adulation for setting a whole new raft of targets when he has so woefully failed to meet the ones he already has,\" added Mr Duncan.\n",
      "\n",
      "\n",
      "Time Taken for searching for the article :  10.918142499999998\n"
     ]
    },
    {
     "name": "stderr",
     "output_type": "stream",
     "text": [
      "C:\\Users\\Mohamed Mousa\\anaconda3\\myanaconda\\lib\\site-packages\\sklearn\\utils\\deprecation.py:87: FutureWarning: Function get_feature_names is deprecated; get_feature_names is deprecated in 1.0 and will be removed in 1.2. Please use get_feature_names_out instead.\n",
      "  warnings.warn(msg, category=FutureWarning)\n"
     ]
    }
   ],
   "source": [
    "\n",
    "words = ['The government is bad' ]\n",
    "\n",
    "\n",
    "\n",
    "search_words_tfidf(Data, words)\n",
    "\n"
   ]
  }
 ],
 "metadata": {
  "kernelspec": {
   "display_name": "Python 3",
   "language": "python",
   "name": "python3"
  },
  "language_info": {
   "codemirror_mode": {
    "name": "ipython",
    "version": 3
   },
   "file_extension": ".py",
   "mimetype": "text/x-python",
   "name": "python",
   "nbconvert_exporter": "python",
   "pygments_lexer": "ipython3",
   "version": "3.7.6"
  }
 },
 "nbformat": 4,
 "nbformat_minor": 5
}
